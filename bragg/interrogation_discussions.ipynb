{
 "cells": [
  {
   "attachments": {},
   "cell_type": "markdown",
   "metadata": {
    "slideshow": {
     "slide_type": "slide"
    }
   },
   "source": [
    "<policy domain=\"coder\" rights=\"none\" pattern=\"{PS,PS2,PS3,EPS,PDF,XPS}\" />\n",
    "\n",
    "# Breve discussão sobre interrogação de FBGs.\n",
    "\n",
    "Discutiremos tipo diferentes de interrogação de FBGs.\n",
    "O princípio de interrogação óptica está relacionado diretamente com a natureza da fonte óptica utilizada.\n",
    "\n",
    "1. Laser, ou\n",
    "2. Banda larga.\n"
   ]
  },
  {
   "attachments": {},
   "cell_type": "markdown",
   "metadata": {
    "slideshow": {
     "slide_type": "slide"
    }
   },
   "source": [
    "\n",
    "## Laser\n",
    "Possibilidades de interrogação:\n",
    "* Uma grade\n",
    "  * Reflexão\n",
    "  * Transmissão\n",
    "* Duas grades\n",
    "  * Grades com picos iguais\n",
    "  * Grades com picos deslocados \n",
    "    * Reflexão da reflexão\n",
    "    * Transmissão da transmissão\n",
    "    * Reflexão da transmissão\n",
    "    * transmissão da reflexão"
   ]
  },
  {
   "cell_type": "code",
   "execution_count": 9,
   "metadata": {},
   "outputs": [
    {
     "data": {
      "image/png": "[encoded data removed]",
      "text/plain": [
       "<wand.image.Image: 8a76949 'PDF' (214x157)>"
      ]
     },
     "execution_count": 9,
     "metadata": {},
     "output_type": "execute_result"
    }
   ],
   "source": [
    "from bragg import Bragg\n",
    "from wand.image import Image as WImage\n",
    "\n",
    "img = WImage(filename='./../../main-pics.pdf[3]')\n",
    "img\n",
    "# bragg = Bragg(fbg_size=1e-3,)"
   ]
  },
  {
   "attachments": {},
   "cell_type": "markdown",
   "metadata": {
    "slideshow": {
     "slide_type": "subslide"
    }
   },
   "source": [
    "* Uma grade\n"
   ]
  },
  {
   "attachments": {},
   "cell_type": "markdown",
   "metadata": {
    "slideshow": {
     "slide_type": "slide"
    }
   },
   "source": [
    "## Interrogação com Banda larga"
   ]
  }
 ],
 "metadata": {
  "kernelspec": {
   "display_name": "Python 3",
   "language": "python",
   "name": "python3"
  },
  "language_info": {
   "codemirror_mode": {
    "name": "ipython",
    "version": 3
   },
   "file_extension": ".py",
   "mimetype": "text/x-python",
   "name": "python",
   "nbconvert_exporter": "python",
   "pygments_lexer": "ipython3",
   "version": "3.10.7"
  },
  "orig_nbformat": 4
 },
 "nbformat": 4,
 "nbformat_minor": 2
}
